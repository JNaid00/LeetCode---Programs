{
 "cells": [
  {
   "cell_type": "code",
   "execution_count": 19,
   "metadata": {},
   "outputs": [
    {
     "name": "stdout",
     "output_type": "stream",
     "text": [
      "[0, 0, 1, 1, 2, 2]\n",
      "[0, 1, 2]\n",
      "[0, 0, 0, 0, 0, 0, 0, 1, 1, 2, 2]\n"
     ]
    }
   ],
   "source": [
    "class Solution(object):\n",
    "    def sortColors(self, nums):\n",
    "        \"\"\"\n",
    "        :type nums: List[int]\n",
    "        :rtype: None Do not return anything, modify nums in-place instead.\n",
    "        \"\"\"\n",
    "        for i in range(len(nums)):\n",
    "            if nums[i] == 0:\n",
    "                temp = nums.pop(i)\n",
    "                nums.insert(0, temp)\n",
    "            elif nums[i] == 2:\n",
    "                temp = nums.pop(i)\n",
    "                nums.insert(len(nums), temp)\n",
    "        \n",
    "\n",
    "sol = Solution()\n",
    "arr = [2,0,2,1,1,0]\n",
    "sol.sortColors(arr)\n",
    "print(arr)\n",
    "arr = [2,0,1]\n",
    "sol.sortColors(arr)\n",
    "print(arr)\n",
    "arr = [2,0,2,1,1,0,0,0,0,0,0,]\n",
    "sol.sortColors(arr)\n",
    "print(arr)"
   ]
  }
 ],
 "metadata": {
  "kernelspec": {
   "display_name": "base",
   "language": "python",
   "name": "python3"
  },
  "language_info": {
   "codemirror_mode": {
    "name": "ipython",
    "version": 3
   },
   "file_extension": ".py",
   "mimetype": "text/x-python",
   "name": "python",
   "nbconvert_exporter": "python",
   "pygments_lexer": "ipython3",
   "version": "3.9.13"
  },
  "orig_nbformat": 4,
  "vscode": {
   "interpreter": {
    "hash": "f0341aa5a06feafce91857fed2add0c3aa6e0e2aeafbb6e2276475681ac47023"
   }
  }
 },
 "nbformat": 4,
 "nbformat_minor": 2
}
