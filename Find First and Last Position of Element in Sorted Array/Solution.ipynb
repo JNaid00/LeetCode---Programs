{
 "cells": [
  {
   "cell_type": "code",
   "execution_count": 3,
   "metadata": {},
   "outputs": [
    {
     "name": "stdout",
     "output_type": "stream",
     "text": [
      "[3, 4]\n",
      "[-1, -1]\n",
      "[-1, -1]\n",
      "[0, 0]\n",
      "[5, 5]\n",
      "[0, 5]\n"
     ]
    }
   ],
   "source": [
    "# %%\n",
    "class Solution(object):\n",
    "    def searchRange(self, nums, target):\n",
    "        \"\"\"\n",
    "        :type nums: List[int]\n",
    "        :type target: int\n",
    "        :rtype: List[int]\n",
    "        \"\"\"\n",
    "        return [self.binSearch(nums, target, True), self.binSearch(nums, target, False)]\n",
    "        \n",
    "\n",
    "    def binSearch(self, nums, target, leftBias):\n",
    "        l,r = 0, len(nums) -1\n",
    "        i = -1\n",
    "        while l <= r:\n",
    "            mid = (l + r) //2 \n",
    "            if target > nums[mid]:\n",
    "                l = mid + 1\n",
    "            elif target < nums[mid]:\n",
    "                r = mid - 1\n",
    "            else:\n",
    "                i = mid\n",
    "                if leftBias == True:\n",
    "                    r = mid - 1\n",
    "                else:\n",
    "                    l = mid + 1\n",
    "        return i\n",
    "\n",
    "sol = Solution()\n",
    "print(sol.searchRange([5,7,7,8,8,10], 8))\n",
    "print(sol.searchRange([5,7,7,8,8,10], 6))\n",
    "print(sol.searchRange([], 6))\n",
    "print(sol.searchRange([5,7,7,8,8,10], 5))\n",
    "print(sol.searchRange([5,7,7,8,8,10], 10))\n",
    "print(sol.searchRange([1,1,1,1,1,1,5,7,7,8,8,10], 1))\n",
    "\n",
    "\n"
   ]
  },
  {
   "cell_type": "code",
   "execution_count": null,
   "metadata": {},
   "outputs": [],
   "source": []
  }
 ],
 "metadata": {
  "kernelspec": {
   "display_name": "Python 3 (ipykernel)",
   "language": "python",
   "name": "python3"
  },
  "language_info": {
   "codemirror_mode": {
    "name": "ipython",
    "version": 3
   },
   "file_extension": ".py",
   "mimetype": "text/x-python",
   "name": "python",
   "nbconvert_exporter": "python",
   "pygments_lexer": "ipython3",
   "version": "3.9.13"
  },
  "orig_nbformat": 4
 },
 "nbformat": 4,
 "nbformat_minor": 2
}
