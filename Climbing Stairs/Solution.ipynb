{
 "cells": [
  {
   "cell_type": "code",
   "execution_count": 4,
   "metadata": {},
   "outputs": [
    {
     "name": "stdout",
     "output_type": "stream",
     "text": [
      "8\n",
      "34\n",
      "1597\n"
     ]
    }
   ],
   "source": [
    "class Solution(object):\n",
    "    def climbStairs(self, n):\n",
    "        \"\"\"\n",
    "        :type n: int\n",
    "        :rtype: int\n",
    "        \"\"\"\n",
    "        one, two = 1, 1\n",
    "\n",
    "        for i in range(n - 1):\n",
    "            temp = one\n",
    "            one = one + two\n",
    "            two = temp\n",
    "\n",
    "        return one\n",
    "\n",
    "        \n",
    "\n",
    "\n",
    "sol = Solution()\n",
    "print(sol.climbStairs(5))\n",
    "print(sol.climbStairs(8))\n",
    "print(sol.climbStairs(16))"
   ]
  }
 ],
 "metadata": {
  "kernelspec": {
   "display_name": "base",
   "language": "python",
   "name": "python3"
  },
  "language_info": {
   "codemirror_mode": {
    "name": "ipython",
    "version": 3
   },
   "file_extension": ".py",
   "mimetype": "text/x-python",
   "name": "python",
   "nbconvert_exporter": "python",
   "pygments_lexer": "ipython3",
   "version": "3.9.13"
  },
  "orig_nbformat": 4,
  "vscode": {
   "interpreter": {
    "hash": "f0341aa5a06feafce91857fed2add0c3aa6e0e2aeafbb6e2276475681ac47023"
   }
  }
 },
 "nbformat": 4,
 "nbformat_minor": 2
}
