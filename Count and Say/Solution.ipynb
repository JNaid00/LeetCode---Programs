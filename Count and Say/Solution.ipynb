{
 "cells": [
  {
   "cell_type": "code",
   "execution_count": 25,
   "metadata": {},
   "outputs": [
    {
     "name": "stdout",
     "output_type": "stream",
     "text": [
      "1\n",
      "11\n",
      "21\n",
      "1211\n",
      "111221\n",
      "312211\n",
      "13112221\n"
     ]
    }
   ],
   "source": [
    "class Solution(object):\n",
    "    def countAndSay(self, n):\n",
    "        \"\"\"\n",
    "        :type n: int\n",
    "        :rtype: str\n",
    "        \"\"\"\n",
    "        return self.recursive(1, n, 1)\n",
    "    def recursive(self,start, n, ans):\n",
    "        if (n == start):\n",
    "            return ans\n",
    "        strans = str(ans)\n",
    "        output = \"\"\n",
    "        i = 0\n",
    "        while i < len(strans):\n",
    "            count = 1\n",
    "            temp = strans[i]\n",
    "            while i + count < len(strans) and temp == strans[i + count]:\n",
    "                count += 1\n",
    "\n",
    "            i += count\n",
    "            output += str(count) + str(temp)\n",
    "\n",
    "\n",
    "        return self.recursive(start+1, n, int(output))\n",
    "\n",
    "\n",
    "\n",
    "sol = Solution()\n",
    "print(sol.countAndSay(1))\n",
    "print(sol.countAndSay(2))\n",
    "print(sol.countAndSay(3))\n",
    "print(sol.countAndSay(4))\n",
    "print(sol.countAndSay(5))\n",
    "print(sol.countAndSay(6))\n",
    "print(sol.countAndSay(7))"
   ]
  }
 ],
 "metadata": {
  "kernelspec": {
   "display_name": "base",
   "language": "python",
   "name": "python3"
  },
  "language_info": {
   "codemirror_mode": {
    "name": "ipython",
    "version": 3
   },
   "file_extension": ".py",
   "mimetype": "text/x-python",
   "name": "python",
   "nbconvert_exporter": "python",
   "pygments_lexer": "ipython3",
   "version": "3.9.13"
  },
  "orig_nbformat": 4,
  "vscode": {
   "interpreter": {
    "hash": "f0341aa5a06feafce91857fed2add0c3aa6e0e2aeafbb6e2276475681ac47023"
   }
  }
 },
 "nbformat": 4,
 "nbformat_minor": 2
}
