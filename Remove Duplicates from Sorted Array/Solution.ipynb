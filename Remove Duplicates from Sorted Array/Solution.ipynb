{
 "cells": [
  {
   "cell_type": "code",
   "execution_count": 12,
   "metadata": {},
   "outputs": [
    {
     "name": "stdout",
     "output_type": "stream",
     "text": [
      "[1, 2, 2]\n",
      "2\n",
      "[1, 2, 2, 2, 2]\n",
      "2\n",
      "[1, 2, 3, 8, 9, 3, 3, 3, 3, 3, 8, 9]\n",
      "5\n",
      "[1, 2, 3, 4, 5, 6, 7, 8, 9]\n",
      "9\n",
      "[0, 1, 2, 3, 4, 2, 2, 3, 3, 4]\n",
      "5\n"
     ]
    }
   ],
   "source": [
    "class Solution(object):\n",
    "    def removeDuplicates(self, nums):\n",
    "        \"\"\"\n",
    "        :type nums: List[int]\n",
    "        :rtype: int\n",
    "        \"\"\"\n",
    "        pos, finalpos, temp = 0, 0, 0\n",
    "        count = 1\n",
    "        while pos < len(nums):\n",
    "            while pos < len(nums) and nums[pos] == nums[finalpos]:\n",
    "                pos += 1\n",
    "\n",
    "            if pos < len(nums):\n",
    "                finalpos += 1\n",
    "                nums[finalpos] = nums[pos]\n",
    "                count += 1\n",
    "                pos += 1\n",
    "\n",
    "        print(nums)\n",
    "        return count\n",
    "\n",
    "            \n",
    "\n",
    "\n",
    "sol = Solution()\n",
    "print(sol.removeDuplicates([1,1,2]))\n",
    "print(sol.removeDuplicates([1,1,2,2,2]))\n",
    "print(sol.removeDuplicates([1,1,2,2,3,3,3,3,3,3,8,9]))\n",
    "print(sol.removeDuplicates([1,2,3,4,5,6,7,8,9]))\n",
    "print(sol.removeDuplicates([0,0,1,1,1,2,2,3,3,4]))\n"
   ]
  }
 ],
 "metadata": {
  "kernelspec": {
   "display_name": "base",
   "language": "python",
   "name": "python3"
  },
  "language_info": {
   "codemirror_mode": {
    "name": "ipython",
    "version": 3
   },
   "file_extension": ".py",
   "mimetype": "text/x-python",
   "name": "python",
   "nbconvert_exporter": "python",
   "pygments_lexer": "ipython3",
   "version": "3.9.13"
  },
  "orig_nbformat": 4,
  "vscode": {
   "interpreter": {
    "hash": "f0341aa5a06feafce91857fed2add0c3aa6e0e2aeafbb6e2276475681ac47023"
   }
  }
 },
 "nbformat": 4,
 "nbformat_minor": 2
}
